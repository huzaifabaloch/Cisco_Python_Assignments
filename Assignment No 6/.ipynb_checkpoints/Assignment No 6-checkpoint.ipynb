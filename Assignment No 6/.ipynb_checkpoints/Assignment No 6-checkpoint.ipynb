{
 "cells": [
  {
   "cell_type": "markdown",
   "metadata": {},
   "source": [
    "# Question 1:\n",
    "    Define Object Oriented Programming Language?"
   ]
  },
  {
   "cell_type": "markdown",
   "metadata": {},
   "source": [
    "# Answer      \n",
    "    Object Oriented Programming or OOP is a modern approach, where a problem is seen as an object. An object can be anything in the real world like car, cat, book, human, animal, restaurant, student and many more. Every object has two primary features, one is it's property|attribute and other is it's method. "
   ]
  },
  {
   "cell_type": "markdown",
   "metadata": {},
   "source": [
    "# Question 2:\n",
    "    List down the Benefits of OOP?"
   ]
  },
  {
   "cell_type": "markdown",
   "metadata": {},
   "source": [
    "# Answer\n",
    "    The benifits of OOP according to me are:\n",
    "        1. The problem become simpler when we find the real entities that we will model and create objects.\n",
    "        2. The major advantage of OOP according to me is that, we can create more than one object for a single class\n",
    "            and use them accross the application.\n",
    "        3. Resuablity of objects.\n",
    "        4. It makes the application easier to maintain like finding bugs, catching errors and updating certain parts of \n",
    "            code."
   ]
  },
  {
   "cell_type": "markdown",
   "metadata": {},
   "source": [
    "# Question 3:\n",
    "    Differentiate between function and method?"
   ]
  },
  {
   "cell_type": "markdown",
   "metadata": {},
   "source": [
    "# Answer\n",
    "\n",
    "### Function\n",
    "    A block of code when called by name is a function.\n",
    "#### Examples\n",
    "    1. print()\n",
    "    2. len()\n",
    "    3. user-defined functions\n",
    "\n",
    "\n",
    "### Method\n",
    "    A block of code when called by name that is associated with an object is a method.\n",
    "#### Examples\n",
    "    1. object.show_details()\n",
    "    2. car.speed()"
   ]
  },
  {
   "cell_type": "markdown",
   "metadata": {},
   "source": [
    "# Question 4:\n",
    "    Define the following terms:\n",
    "    1. Class\n",
    "    2. Object\n",
    "    3. Attribute\n",
    "    4. Behavior"
   ]
  },
  {
   "cell_type": "markdown",
   "metadata": {},
   "source": [
    "# Answer \n",
    "## Class\n",
    "    A class is a blueprint or a template for creating the object.\n",
    "\n",
    "\n",
    "## Object\n",
    "    An object is a real world entity that consists of properties and methods.\n",
    "\n",
    "\n",
    "## Attribute\n",
    "    An attribute is a property of an object.\n",
    "    like -> height, age, weight, bank balance.\n",
    "    \n",
    "\n",
    "## Behavior\n",
    "    A behavior is an action performed by an object.\n",
    "    like -> cat eating food, boy jumping from sky."
   ]
  },
  {
   "cell_type": "markdown",
   "metadata": {},
   "source": [
    "# Question 5:\n",
    "    Write a code in python in which create a class named it Car which have 5 attributes \n",
    "    such like (model, color and name etc.) and 3 methods. And create 5 object instance from that class."
   ]
  },
  {
   "cell_type": "markdown",
   "metadata": {},
   "source": [
    "# Answer"
   ]
  },
  {
   "cell_type": "code",
   "execution_count": 18,
   "metadata": {},
   "outputs": [
    {
     "name": "stdout",
     "output_type": "stream",
     "text": [
      "\n",
      "Name = audi\n",
      "Model = 2018\n",
      "Color = black\n",
      "Producer = Volkswagen\n",
      "Speed = 123.3\n",
      "\n",
      "Name = audi\n",
      "Model = 2018\n",
      "Color = black\n",
      "Producer = Volkswagen\n",
      "Speed = 145.6\n",
      "\n",
      "Name = audi\n",
      "Model = 2018\n",
      "Color = brown\n",
      "Producer = Volkswagen\n",
      "Speed = 145.6\n",
      "\n",
      "Name = ferrari\n",
      "Model = 2019\n",
      "Color = red\n",
      "Producer = Fiat\n",
      "Speed = 12.5\n",
      "\n",
      "Name = bugatti\n",
      "Model = 2017\n",
      "Color = orange\n",
      "Producer = Mike WiLL\n",
      "Speed = 111.5\n",
      "\n",
      "Name = cadillac\n",
      "Model = 2016\n",
      "Color = red\n",
      "Producer = General Motors\n",
      "Speed = 156.5\n",
      "\n",
      "Name = mercedes\n",
      "Model = 2017\n",
      "Color = blue\n",
      "Producer = Daimler AG\n",
      "Speed = 90.2\n"
     ]
    }
   ],
   "source": [
    "class Car:\n",
    "    def __init__(self, name, model, color, producer, speed):\n",
    "        # Initializing the car attributes. \n",
    "        \n",
    "        self.name = name\n",
    "        self.model = model\n",
    "        self.color = color\n",
    "        self.producer = producer\n",
    "        self.speed = speed\n",
    "        \n",
    "    def show_car_info(self):\n",
    "        # Show car information.\n",
    "        \n",
    "        print(f'\\nName = {self.name}\\nModel = {self.model}\\nColor = {self.color}\\nProducer = {self.producer}\\nSpeed = {self.speed}')\n",
    "    \n",
    "    def modify_car_speed(self, new_speed):\n",
    "        # Modifying car speed.\n",
    "        \n",
    "        if new_speed > 0:\n",
    "            self.speed = new_speed\n",
    "\n",
    "    def change_car_color(self, new_color):\n",
    "        # Changing car's color.\n",
    "        \n",
    "        colors = ['red', 'blue', 'green', 'black', 'white', 'magenta', 'cyan', 'brown', 'orange']\n",
    "        \n",
    "        if new_color in colors:\n",
    "            self.color = new_color\n",
    "            \n",
    "            \n",
    "# CREATING 5 OBJECTS.\n",
    "\n",
    "car1 = Car('audi', 2018, 'black', 'Volkswagen', 123.3)\n",
    "car1.show_car_info()\n",
    "car1.modify_car_speed(145.6)\n",
    "car1.show_car_info()\n",
    "car1.change_car_color('brown')\n",
    "car1.show_car_info()\n",
    "\n",
    "car2 = Car('ferrari', 2019, 'red', 'Fiat', 12.5)\n",
    "car2.show_car_info()\n",
    "\n",
    "car3 = Car('bugatti', 2017, 'orange', 'Mike WiLL', 111.5)\n",
    "car3.show_car_info()\n",
    "\n",
    "car4 = Car('cadillac', 2016, 'red', 'General Motors', 156.5)\n",
    "car4.show_car_info()\n",
    "\n",
    "car5 = Car('mercedes', 2017, 'blue', 'Daimler AG', 90.2)\n",
    "car5.show_car_info()"
   ]
  }
 ],
 "metadata": {
  "kernelspec": {
   "display_name": "Python 3",
   "language": "python",
   "name": "python3"
  },
  "language_info": {
   "codemirror_mode": {
    "name": "ipython",
    "version": 3
   },
   "file_extension": ".py",
   "mimetype": "text/x-python",
   "name": "python",
   "nbconvert_exporter": "python",
   "pygments_lexer": "ipython3",
   "version": "3.7.3"
  }
 },
 "nbformat": 4,
 "nbformat_minor": 2
}
