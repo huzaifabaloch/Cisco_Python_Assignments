{
 "cells": [
  {
   "cell_type": "markdown",
   "metadata": {},
   "source": [
    "### 1. Write a program which takes 5 inputs from user for different subject’smarks, total it and generate mark sheet using grades ?"
   ]
  },
  {
   "cell_type": "code",
   "execution_count": 48,
   "metadata": {},
   "outputs": [
    {
     "name": "stdout",
     "output_type": "stream",
     "text": [
      "Enter maths marks: 80\n",
      "Enter automata marks: 86\n",
      "Enter data structures marks: 84\n",
      "Enter artifical intelligence marks: 87\n",
      "Enter data science marks: 88\n",
      "\n",
      "\n",
      "\n",
      "===== Marksheet =====\n",
      "\n",
      "Maths = 80\n",
      "Automata = 86\n",
      "Data Structures = 84\n",
      "Artifical Intelligence = 87\n",
      "Data Science = 88\n",
      "Total Marks = 425\n",
      "Percentage = 85.0\n",
      "Grade = A+\n"
     ]
    }
   ],
   "source": [
    "subjects = ['maths', 'automata', 'data structures', 'artifical intelligence', 'data science']\n",
    "marks = []\n",
    "\n",
    "for each in subjects:\n",
    "    marks.append(int(input('Enter {} marks: '.format(each))))\n",
    "    \n",
    "obtained_marks = sum(marks)\n",
    "percentage = (obtained_marks / 500) * 100\n",
    "\n",
    "if percentage >= 80 and percentage <= 100:\n",
    "    grade = 'A+'\n",
    "elif percentage >= 70 and percentage < 80:\n",
    "    grade = 'A'\n",
    "elif percentage >= 60 and percentage < 70:\n",
    "    grade = 'B'\n",
    "elif percentage >= 50 and percentage < 60:\n",
    "    grade = 'C'\n",
    "elif percentage >= 40 and percentage < 50:\n",
    "    grade = 'D'\n",
    "elif percentage >= 30 and percentage < 40:\n",
    "    grade = 'E'\n",
    "else:\n",
    "    grade = 'F'\n",
    "    \n",
    "print('\\n\\n')\n",
    "print('===== Marksheet =====\\n')\n",
    "for each in range(len(subjects)):\n",
    "    print('{} = {}'.format(subjects[each].title(), marks[each]))\n",
    "\n",
    "print('Total Marks = {}'.format(obtained_marks))\n",
    "print('Percentage = {}'.format(percentage))\n",
    "print('Grade = {}'.format(grade))\n",
    "    "
   ]
  },
  {
   "cell_type": "markdown",
   "metadata": {},
   "source": [
    "### 2. Write a program which take input from user and identify that the given number is even or odd?"
   ]
  },
  {
   "cell_type": "code",
   "execution_count": 49,
   "metadata": {},
   "outputs": [
    {
     "name": "stdout",
     "output_type": "stream",
     "text": [
      "Enter a Number: 1\n",
      "ODD\n",
      "\n",
      "Enter a Number: 4\n",
      "EVEN\n",
      "\n",
      "Enter a Number: 3\n",
      "ODD\n",
      "\n",
      "Enter a Number: 8\n",
      "EVEN\n",
      "\n",
      "Enter a Number: 24\n",
      "EVEN\n",
      "\n",
      "Enter a Number: 525\n",
      "ODD\n",
      "\n",
      "Enter a Number: -1\n",
      "ODD\n",
      "\n"
     ]
    }
   ],
   "source": [
    "num = 1\n",
    "while num > 0:\n",
    "    num = int(input('Enter a Number: '))\n",
    "    if (num % 2) == 0:\n",
    "        print('EVEN\\n')\n",
    "    else:\n",
    "        print('ODD\\n')"
   ]
  },
  {
   "cell_type": "markdown",
   "metadata": {},
   "source": [
    "### 3. Write a program which print the length of the list?"
   ]
  },
  {
   "cell_type": "code",
   "execution_count": 50,
   "metadata": {},
   "outputs": [
    {
     "name": "stdout",
     "output_type": "stream",
     "text": [
      "First enter items in the list, then we count for you.\n",
      "hi\n",
      "hello\n",
      "huzaifa\n",
      "baloch\n",
      "SMIT \n",
      "saylani is best\n",
      "cisco\n",
      "303\n",
      "200\n",
      "0\n",
      "\n",
      "\n",
      "The length of the list is 9\n"
     ]
    }
   ],
   "source": [
    "lst = list()\n",
    "flag = 1\n",
    "count = 0\n",
    "\n",
    "print('First enter items in the list, then we count for you.')\n",
    "while flag:\n",
    "    if '0' in lst:\n",
    "        break\n",
    "    lst.append(input())\n",
    "\n",
    "del lst[-1]\n",
    "for item in lst:\n",
    "    count += 1\n",
    "\n",
    "print(f'\\n\\nThe length of the list is {count}')"
   ]
  },
  {
   "cell_type": "markdown",
   "metadata": {},
   "source": [
    "### 4. Write a Python program to sum all the numeric items in a list?"
   ]
  },
  {
   "cell_type": "code",
   "execution_count": 51,
   "metadata": {},
   "outputs": [
    {
     "name": "stdout",
     "output_type": "stream",
     "text": [
      "Enter numbers in the list\n",
      "huzaifa\n",
      "20\n",
      "lol\n",
      "weeee!\n",
      "10\n",
      "25\n",
      "0\n",
      "\n",
      "\n",
      "The sum of numbers in the list is 55\n"
     ]
    }
   ],
   "source": [
    "lst = list()\n",
    "flag = 1\n",
    "summ = 0\n",
    "\n",
    "print('Enter numbers in the list')\n",
    "while flag:\n",
    "    if '0' in lst:\n",
    "        break\n",
    "    lst.append(input())\n",
    "\n",
    "for number in lst:\n",
    "    if not number.isdigit():\n",
    "        continue\n",
    "    summ += int(number)\n",
    "\n",
    "print(f'\\n\\nThe sum of numbers in the list is {summ}')"
   ]
  },
  {
   "cell_type": "markdown",
   "metadata": {},
   "source": [
    "### 5. Write a Python program to get the largest number from a numeric list."
   ]
  },
  {
   "cell_type": "code",
   "execution_count": 52,
   "metadata": {},
   "outputs": [
    {
     "name": "stdout",
     "output_type": "stream",
     "text": [
      "3140\n"
     ]
    }
   ],
   "source": [
    "numeric_lst = [4, 552, 2, 224, 3140, 255, 7]\n",
    "largest = numeric_lst[0]\n",
    "\n",
    "for i in range(len(numeric_lst)):\n",
    "    if numeric_lst[i] > largest:\n",
    "        largest = numeric_lst[i]\n",
    "print(largest)"
   ]
  },
  {
   "cell_type": "markdown",
   "metadata": {},
   "source": [
    "### 6. Take a list, say for example this one:\n",
    "    a = [1, 1, 2, 3, 5, 8, 13, 21, 34, 55, 89]\n",
    "    and write a program that prints out all the elements of the list that are less than 5."
   ]
  },
  {
   "cell_type": "code",
   "execution_count": 53,
   "metadata": {},
   "outputs": [
    {
     "name": "stdout",
     "output_type": "stream",
     "text": [
      "1\n",
      "1\n",
      "2\n",
      "3\n"
     ]
    }
   ],
   "source": [
    "a = [1, 1, 2, 3, 5, 8, 13, 21, 34, 55, 89]\n",
    "\n",
    "for each in a:\n",
    "    if each < 5:\n",
    "        print(each)"
   ]
  }
 ],
 "metadata": {
  "kernelspec": {
   "display_name": "Python 3",
   "language": "python",
   "name": "python3"
  },
  "language_info": {
   "codemirror_mode": {
    "name": "ipython",
    "version": 3
   },
   "file_extension": ".py",
   "mimetype": "text/x-python",
   "name": "python",
   "nbconvert_exporter": "python",
   "pygments_lexer": "ipython3",
   "version": "3.7.3"
  }
 },
 "nbformat": 4,
 "nbformat_minor": 2
}
