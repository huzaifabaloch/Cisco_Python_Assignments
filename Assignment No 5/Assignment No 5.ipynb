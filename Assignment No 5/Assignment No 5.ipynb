{
 "cells": [
  {
   "cell_type": "markdown",
   "metadata": {},
   "source": [
    "# Question:1 \n",
    "    Write a Python function to calculate the factorial of a number (a non-negative integer). The function accepts the number as an argument."
   ]
  },
  {
   "cell_type": "markdown",
   "metadata": {},
   "source": [
    "4! ->> 4 * 3 * 2 * 1  => 24"
   ]
  },
  {
   "cell_type": "code",
   "execution_count": 13,
   "metadata": {},
   "outputs": [
    {
     "name": "stdout",
     "output_type": "stream",
     "text": [
      "24\n",
      "120\n",
      "2\n",
      "1\n"
     ]
    }
   ],
   "source": [
    "def factorial_without_recursion(num):\n",
    "    \n",
    "    if num > 1:\n",
    "        a = num\n",
    "        while num:\n",
    "            r = a * (num-1)\n",
    "            a = r\n",
    "            num -= 1\n",
    "            if (num-1) == 0:\n",
    "                break\n",
    "                \n",
    "    elif num == 1 or num == 0:\n",
    "        return 1\n",
    "    else:\n",
    "        return ('Number must be greater than 0')\n",
    "    \n",
    "    return r\n",
    "\n",
    "print(factorial_without_recursion(4))\n",
    "print(factorial_without_recursion(5))\n",
    "print(factorial_without_recursion(2))\n",
    "print(factorial_without_recursion(0))    "
   ]
  },
  {
   "cell_type": "code",
   "execution_count": 14,
   "metadata": {},
   "outputs": [
    {
     "name": "stdout",
     "output_type": "stream",
     "text": [
      "6\n",
      "362880\n",
      "120\n",
      "Number must be greater than 0\n"
     ]
    }
   ],
   "source": [
    "def factorial_with_recursion(num):\n",
    "    \n",
    "    if num >= 0:\n",
    "        if num == 0 or num == 1:\n",
    "            return 1\n",
    "        else:\n",
    "            return num * factorial_with_recursion(num-1)\n",
    "    else:\n",
    "        return ('Number must be greater than 0') \n",
    "    \n",
    "print(factorial_with_recursion(3))    \n",
    "print(factorial_with_recursion(9))\n",
    "print(factorial_with_recursion(5))\n",
    "print(factorial_with_recursion(-4))"
   ]
  },
  {
   "cell_type": "markdown",
   "metadata": {},
   "source": [
    "# Question:2 \n",
    "    Write a Python function that accepts a string and calculate the number of upper case letters and lower case letters."
   ]
  },
  {
   "cell_type": "code",
   "execution_count": 15,
   "metadata": {},
   "outputs": [
    {
     "name": "stdout",
     "output_type": "stream",
     "text": [
      "Enter length of your random word: 14\n",
      "\n",
      "The string \"WnFGRTbuNtTCfA\" has 5 lower characters and 9 upper characters\n"
     ]
    }
   ],
   "source": [
    "''' \n",
    "I am using this technique just to get a random word of user input length\n",
    "to get both upper and lower letters and count them.\n",
    "'''\n",
    "\n",
    "from random import randrange\n",
    "\n",
    "def random_word_generator():\n",
    "\n",
    "    string = 'abcdefghijklmnopqrstuvwxyzABCDEFGHIJKLMNOPQRSTUVWXYZ'\n",
    "    random_word = ''\n",
    "    \n",
    "    user_input_length = int(input('Enter length of your random word: '))\n",
    "    for i in range(user_input_length):\n",
    "        random_word += string[randrange(len(string))]\n",
    "        \n",
    "    return random_word\n",
    "\n",
    "def upper_and_lower_count(string):\n",
    "    \n",
    "    word = string\n",
    "    lower_count = 0\n",
    "    upper_count = lower_count\n",
    "    \n",
    "    for i in string:\n",
    "        if i == i.lower():\n",
    "            lower_count += 1\n",
    "        elif i == i.upper():\n",
    "            upper_count += 1\n",
    "        \n",
    "    return lower_count, upper_count, word\n",
    "            \n",
    "            \n",
    "lower_cnt, upper_count, word = upper_and_lower_count(random_word_generator())\n",
    "\n",
    "print(f'\\nThe string \"{word}\" has {lower_cnt} lower characters and {upper_count} upper characters')"
   ]
  },
  {
   "cell_type": "markdown",
   "metadata": {},
   "source": [
    "# Question:3\n",
    "    Write a Python function to print the even numbers from a given list."
   ]
  },
  {
   "cell_type": "code",
   "execution_count": 16,
   "metadata": {},
   "outputs": [
    {
     "name": "stdout",
     "output_type": "stream",
     "text": [
      "The even numbers from a given list:\n",
      "\n",
      "\t\t4\n",
      "\t\t54\n",
      "\t\t12\n",
      "\t\t764\n",
      "\t\t7678\n",
      "\t\t34\n",
      "\t\t98\n",
      "\t\t76\n",
      "\t\t456\n",
      "\t\t432\n",
      "\t\t554\n",
      "\t\t676\n",
      "\t\t22\n"
     ]
    }
   ],
   "source": [
    "nums = [3,4,54,23,12,67,43,45,67,989,899,71,23,764,7678,34,5,98,76,456,432,123,554,676,43,22]\n",
    "\n",
    "def show_evens(nums):\n",
    "    print('The even numbers from a given list:\\n')\n",
    "    for i in nums:\n",
    "        if i%2==0:\n",
    "            print(f'\\t\\t{i}')\n",
    "\n",
    "show_evens(nums)"
   ]
  },
  {
   "cell_type": "markdown",
   "metadata": {},
   "source": [
    "# Question:4 \n",
    "    Write a Python function that checks whether a passed string is palindrome or not. Note: A palindrome is a word, phrase, or sequence that reads the same backward as forward, e.g., madam"
   ]
  },
  {
   "cell_type": "code",
   "execution_count": 17,
   "metadata": {
    "scrolled": false
   },
   "outputs": [
    {
     "name": "stdout",
     "output_type": "stream",
     "text": [
      "True\n",
      "False\n",
      "True\n",
      "True\n",
      "False\n"
     ]
    }
   ],
   "source": [
    "import math as m\n",
    "\n",
    "def is_palindrome(word):\n",
    "\n",
    "    for i in range(len(word)):\n",
    "        if i != m.floor(len(word)/2):\n",
    "            if word[i] == word[-i-1]:\n",
    "                continue\n",
    "            else:\n",
    "                return False\n",
    "        return True\n",
    "\n",
    "    \n",
    "print(is_palindrome('hoookkoooh'))\n",
    "print(is_palindrome('karachi'))\n",
    "print(is_palindrome('madam'))\n",
    "print(is_palindrome('civic'))\n",
    "print(is_palindrome('hookkoooh'))"
   ]
  },
  {
   "cell_type": "markdown",
   "metadata": {},
   "source": [
    "# Question:5 \n",
    "    Write a Python function that takes a number as a parameter and check the number is prime or not."
   ]
  },
  {
   "cell_type": "markdown",
   "metadata": {},
   "source": [
    "(1) 2 3 5 7 "
   ]
  },
  {
   "cell_type": "code",
   "execution_count": 18,
   "metadata": {},
   "outputs": [
    {
     "name": "stdout",
     "output_type": "stream",
     "text": [
      "31 is Prime\n",
      "23 is Prime\n",
      "6 is not Prime\n",
      "39 is not Prime\n",
      "81 is not Prime\n",
      "91 is not Prime\n",
      "101 is Prime\n"
     ]
    }
   ],
   "source": [
    "def is_prime(num):\n",
    "    \n",
    "    inc = 0\n",
    "    for i in range(2, 1000000):\n",
    "        if num%i != 0 and inc < 2:\n",
    "            continue\n",
    "        inc += 1\n",
    "    if inc == 1:\n",
    "        print(f'{num} is Prime')\n",
    "    else:\n",
    "        print(f'{num} is not Prime')\n",
    "        \n",
    "is_prime(31) \n",
    "is_prime(23) \n",
    "is_prime(6)\n",
    "is_prime(39) \n",
    "is_prime(81) \n",
    "is_prime(91) \n",
    "is_prime(101) "
   ]
  },
  {
   "cell_type": "markdown",
   "metadata": {},
   "source": [
    "# Question: 6 - a\n",
    "    Suppose a customer is shopping in a market and you need to print all the items which user bought from market. Write a function which accepts the multiple arguments of user shopping list and print all the items which user bought from market."
   ]
  },
  {
   "cell_type": "code",
   "execution_count": 11,
   "metadata": {},
   "outputs": [
    {
     "name": "stdout",
     "output_type": "stream",
     "text": [
      "Buy whatever item you want and i will make a list for you, when you finish buying, enter exit.\n",
      "cheese\n",
      "ketchup\n",
      "mutton\n",
      "tuna\n",
      "banana\n",
      "apples\n",
      "pomegranate\n",
      "exit\n",
      "\n",
      "Customer bought the following items:\n",
      " \n",
      "1 cheese\n",
      "2 ketchup\n",
      "3 mutton\n",
      "4 tuna\n",
      "5 banana\n",
      "6 apples\n",
      "7 pomegranate\n"
     ]
    }
   ],
   "source": [
    "def do_shop():\n",
    "\n",
    "    items = []\n",
    "    print('Buy whatever item you want and i will make a list for you, when you finish buying, enter exit.')\n",
    "    while True:\n",
    "        if items:\n",
    "            if items[-1] != 'exit':\n",
    "                items.append(input())\n",
    "                continue\n",
    "        else:\n",
    "            items.append(input())\n",
    "            continue\n",
    "        del items[-1]\n",
    "        break\n",
    "    return items\n",
    "\n",
    "def shopping_list(items):\n",
    "    \n",
    "    print('\\nCustomer bought the following items:\\n ') \n",
    "    for key, item in enumerate(items):\n",
    "        print(key+1, item)\n",
    "        \n",
    "        \n",
    "shopping_list(do_shop())"
   ]
  },
  {
   "cell_type": "markdown",
   "metadata": {},
   "source": [
    "# Question: 6 - b"
   ]
  },
  {
   "cell_type": "code",
   "execution_count": 19,
   "metadata": {},
   "outputs": [
    {
     "name": "stdout",
     "output_type": "stream",
     "text": [
      "Customer bought the following items:\n",
      " \n",
      "1 cheese\n",
      "2 salad\n",
      "3 tuna\n",
      "4 meat\n",
      "5 eggs\n",
      "6 mutton\n",
      "7 milk\n",
      "8 bananas\n",
      "9 apples\n",
      "10 pomegranate\n"
     ]
    }
   ],
   "source": [
    "def customer_shopping(*items):\n",
    "    \n",
    "    print('Customer bought the following items:\\n ')\n",
    "    for key, item in enumerate(items):\n",
    "        print(key+1, item)\n",
    "    \n",
    "customer_shopping('cheese', 'salad', 'tuna', 'meat', 'eggs', 'mutton', 'milk', 'bananas', 'apples', 'pomegranate')"
   ]
  }
 ],
 "metadata": {
  "kernelspec": {
   "display_name": "Python 3",
   "language": "python",
   "name": "python3"
  },
  "language_info": {
   "codemirror_mode": {
    "name": "ipython",
    "version": 3
   },
   "file_extension": ".py",
   "mimetype": "text/x-python",
   "name": "python",
   "nbconvert_exporter": "python",
   "pygments_lexer": "ipython3",
   "version": "3.7.3"
  }
 },
 "nbformat": 4,
 "nbformat_minor": 2
}
