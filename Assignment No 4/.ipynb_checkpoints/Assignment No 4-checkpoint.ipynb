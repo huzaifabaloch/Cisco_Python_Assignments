{
 "cells": [
  {
   "cell_type": "markdown",
   "metadata": {},
   "source": [
    "# Question1:\n",
    "    Use a dictionary to store information about a person you know. Store their first name, last name, age, and the city in which they live. You should have keys such as first_name, last_name, age, and city. Print each piece of information stored in your dictionary. Add a new key value pair about qualification then update the qualification value to high academic level then delete it.\n",
    " "
   ]
  },
  {
   "cell_type": "code",
   "execution_count": 28,
   "metadata": {},
   "outputs": [
    {
     "name": "stdout",
     "output_type": "stream",
     "text": [
      "The first_name is Sahal.\n",
      "The last_name is Baloch.\n",
      "The age is 21.\n",
      "The city is Karachi.\n",
      "\n",
      "\n",
      "The first_name is Sahal.\n",
      "The last_name is Baloch.\n",
      "The age is 21.\n",
      "The city is Karachi.\n",
      "The qualification is B-COM.\n",
      "\n",
      "\n",
      "The first_name is Sahal.\n",
      "The last_name is Baloch.\n",
      "The age is 21.\n",
      "The city is Karachi.\n",
      "The qualification is CMA.\n",
      "\n",
      "\n",
      "The first_name is Sahal.\n",
      "The last_name is Baloch.\n",
      "The age is 21.\n",
      "The city is Karachi.\n",
      "\n",
      "\n"
     ]
    }
   ],
   "source": [
    "def display_person_i_know(dic):\n",
    "    \n",
    "    for key, value in dic.items():\n",
    "        print(f'The {key} is {value}.')\n",
    "    print('\\n')\n",
    "\n",
    "person_i_know = {\n",
    "    'first_name': 'Sahal',\n",
    "    'last_name': 'Baloch',\n",
    "    'age': 21,\n",
    "    'city': 'Karachi',\n",
    "}\n",
    "\n",
    "display_person_i_know(person_i_know)\n",
    "\n",
    "person_i_know['qualification'] = 'B-COM'\n",
    "\n",
    "display_person_i_know(person_i_know)\n",
    "\n",
    "person_i_know.update({'qualification': 'CMA'})\n",
    "\n",
    "display_person_i_know(person_i_know)\n",
    "\n",
    "del person_i_know['qualification']\n",
    "\n",
    "display_person_i_know(person_i_know)"
   ]
  },
  {
   "cell_type": "markdown",
   "metadata": {},
   "source": [
    "# Question2:\n",
    "    Make a dictionary called cities. Use the names of three cities as keys in your dictionary. Create a dictionary of information about each city and include the country that the city is in, its approximate population, and one fact about that city. The keys for each city’s dictionary should be something like country, population, and fact. Print the name of each city and all of the information you have stored about it.\n",
    " "
   ]
  },
  {
   "cell_type": "code",
   "execution_count": 56,
   "metadata": {},
   "outputs": [
    {
     "name": "stdout",
     "output_type": "stream",
     "text": [
      "City Name: Lenon\n",
      "--------------------------\n",
      "Country: Serilaina\n",
      "Population: 300232\n",
      "Fact: The entire shops get closed before 6pm.\n",
      "\n",
      "\n",
      "City Name: Camrenia\n",
      "--------------------------\n",
      "Country: Imreenwich\n",
      "Population: 1300232\n",
      "Fact: There is no holiday on sunday.\n",
      "\n",
      "\n",
      "City Name: Switlake\n",
      "--------------------------\n",
      "Country: Copland\n",
      "Population: 234330\n",
      "Fact: The city with most lakes.\n",
      "\n",
      "\n"
     ]
    }
   ],
   "source": [
    "cities = {\n",
    "    'lenon': {'country': 'serilaina', 'population': 300_232, 'fact': 'The entire shops get closed before 6pm.'},\n",
    "    'camrenia': {'country': 'imreenwich', 'population': 1_300_232, 'fact': 'There is no holiday on sunday.'},\n",
    "    'switlake': {'country': 'copland', 'population': 234_330, 'fact': 'The city with most lakes.'},\n",
    "}\n",
    "\n",
    "for key, key_val in cities.items():\n",
    "    print(f'City Name: {key.title()}')\n",
    "    print('--------------------------')\n",
    "    for k, v in key_val.items():\n",
    "        print(f'{k.title()}: {str(v).capitalize()}')\n",
    "    print('\\n')"
   ]
  },
  {
   "cell_type": "markdown",
   "metadata": {},
   "source": [
    "# Question3:\n",
    "    A movie theater charges different ticket prices depending on a person’s age. If a person is under the age of 3, the ticket is free; if they are between 3 and 12, the ticket is $10; and if they are over age 12, the ticket is $15. Write a loop in which you ask users their age, and then tell them the cost of their movie ticket.\n",
    " "
   ]
  },
  {
   "cell_type": "code",
   "execution_count": 13,
   "metadata": {},
   "outputs": [
    {
     "name": "stdout",
     "output_type": "stream",
     "text": [
      "Enter age: 0\n",
      "Please enter appropriate age.\n",
      "Enter age: -1\n",
      "Please enter appropriate age.\n",
      "Enter age: -2\n",
      "Please enter appropriate age.\n",
      "Enter age: 2\n",
      "The ticket is free\n",
      "\n",
      "Check another age: [1 - yes| 0 - no]\n",
      "1\n",
      "Enter age: 12\n",
      "The ticket price is $12\n",
      "\n",
      "Check another age: [1 - yes| 0 - no]\n",
      "1\n",
      "Enter age: 14\n",
      "The ticket price is $15\n",
      "\n",
      "Check another age: [1 - yes| 0 - no]\n",
      "1\n",
      "Enter age: 8\n",
      "The ticket price is $12\n",
      "\n",
      "Check another age: [1 - yes| 0 - no]\n",
      "0\n",
      "\n",
      "Thank You\n"
     ]
    }
   ],
   "source": [
    "cont = 1\n",
    "\n",
    "while cont:\n",
    "    age = int(input('Enter age: '))\n",
    "    if age <= 0:\n",
    "        print('Please enter appropriate age.')\n",
    "        continue\n",
    "        \n",
    "    if age > 12:\n",
    "        print('The ticket price is $15')\n",
    "    elif age >= 3 and age <= 12:\n",
    "        print('The ticket price is $12')\n",
    "    else:\n",
    "        print('The ticket is free')\n",
    "    \n",
    "    cont = int(input('\\nCheck another age: [1 - yes| 0 - no]\\n'))\n",
    "print('\\nThank You')"
   ]
  },
  {
   "cell_type": "markdown",
   "metadata": {},
   "source": [
    "# Question4:\n",
    "    Write a function called favorite_book() that accepts one parameter, title. The function should print a message, such as One of my favorite books is Alice in Wonderland. Call the function, making sure to include a book title as an argument in the function call.\n",
    " "
   ]
  },
  {
   "cell_type": "code",
   "execution_count": 62,
   "metadata": {},
   "outputs": [
    {
     "name": "stdout",
     "output_type": "stream",
     "text": [
      "One of my favorite book is Kidnapped\n",
      "\n",
      "One of my favorite book is The Prisoner of Zenda\n",
      "\n",
      "One of my favorite book is Data Analysis by Wes\n",
      "\n"
     ]
    }
   ],
   "source": [
    "def favorite_book(title):\n",
    "    print('One of my favorite book is ' + title + '\\n')\n",
    "\n",
    "favorite_book('Kidnapped')\n",
    "favorite_book('The Prisoner of Zenda')\n",
    "favorite_book('Data Analysis by Wes')"
   ]
  },
  {
   "cell_type": "markdown",
   "metadata": {},
   "source": [
    "# Question5:\n",
    "    Guess the number game\n",
    "    Write a program which randomly generate a number between 1 to 30 and ask the user in input field to guess the correct number. Give three chances to user guess the number and also give hint to user if hidden number is greater or smaller than the number he given to input field.\n",
    " "
   ]
  },
  {
   "cell_type": "code",
   "execution_count": 12,
   "metadata": {},
   "outputs": [
    {
     "name": "stdout",
     "output_type": "stream",
     "text": [
      "You get 3 chances to enter the correct secret key and enter the blue zone to rescue hostages,\n",
      "if you fail in doing so, the hostages get killed along with you ;D\n",
      "\n",
      "Press ENTER....\n",
      "Enter the secret key: 14\n",
      "TO LOW\n",
      "HAHAHA - 2 chances left ;D\n",
      "\n",
      "Enter the secret key: 19\n",
      "TO HIGH\n",
      "HAHAHA - 1 chances left ;D\n",
      "\n",
      "Enter the secret key: 17\n",
      "\n",
      "You got the key - Congratulations. go get the hostages to resue.\n"
     ]
    }
   ],
   "source": [
    "from random import randint\n",
    "\n",
    "secret_key = randint(1, 30)\n",
    "chances = 3\n",
    "\n",
    "input(f'You get {chances} chances to enter the correct secret key and enter the blue zone to rescue hostages,\\n\\\n",
    "if you fail in doing so, the hostages get killed along with you ;D\\n\\nPress ENTER....')\n",
    "\n",
    "while chances > 0:\n",
    "    \n",
    "    key = int(input('Enter the secret key: '))\n",
    "    if key > secret_key:\n",
    "        print('TO HIGH')\n",
    "    elif key < secret_key:\n",
    "        print('TO LOW')\n",
    "    else:\n",
    "        print('\\nYou got the key - Congratulations. go get the hostages to resue.')\n",
    "        break\n",
    "    chances -= 1\n",
    "    print(f'HAHAHA - {chances} chances left ;D\\n')\n",
    "\n",
    "if chances == 0:\n",
    "    print('You lose!')"
   ]
  }
 ],
 "metadata": {
  "kernelspec": {
   "display_name": "Python 3",
   "language": "python",
   "name": "python3"
  },
  "language_info": {
   "codemirror_mode": {
    "name": "ipython",
    "version": 3
   },
   "file_extension": ".py",
   "mimetype": "text/x-python",
   "name": "python",
   "nbconvert_exporter": "python",
   "pygments_lexer": "ipython3",
   "version": "3.7.3"
  }
 },
 "nbformat": 4,
 "nbformat_minor": 2
}
