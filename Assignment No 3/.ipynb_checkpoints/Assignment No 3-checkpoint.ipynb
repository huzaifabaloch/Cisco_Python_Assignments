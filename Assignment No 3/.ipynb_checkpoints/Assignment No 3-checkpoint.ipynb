{
 "cells": [
  {
   "cell_type": "markdown",
   "metadata": {},
   "source": [
    "### 1. Make a calculator using Python with addition , subtraction , multiplication ,division and power."
   ]
  },
  {
   "cell_type": "code",
   "execution_count": 1,
   "metadata": {},
   "outputs": [
    {
     "name": "stdout",
     "output_type": "stream",
     "text": [
      "Tuna's Calculator\n",
      "------------------\n",
      "Enter first number: 20\n",
      "Now Enter second number: 10\n",
      "Enter the operation you want to perform: /\n",
      "\n",
      "Answer: 2.0\n"
     ]
    }
   ],
   "source": [
    "def calculator(first_num, second_num, operator):\n",
    "    \n",
    "    result = ''\n",
    "    if operator == '+':\n",
    "        result = first_num + second_num\n",
    "    elif operator == '-':\n",
    "        result = first_num - second_num\n",
    "    elif operator == '*':\n",
    "        result = first_num * second_num\n",
    "    elif operator == '/':\n",
    "        try:\n",
    "            result = first_num / second_num\n",
    "        except ZeroDivisionError:\n",
    "            print('\\nSorry cannot divide by zero!')\n",
    "            return\n",
    "    elif operator == '**':\n",
    "        result = first_num ** second_num\n",
    "\n",
    "    if result or result == 0.0:\n",
    "        print('\\nAnswer: ' + str(round(result, 2)))\n",
    "    else:\n",
    "        print('\\nINVALID OPERATOR ENTERED!')\n",
    "    \n",
    "\n",
    "print('Tuna\\'s Calculator')\n",
    "print('------------------')\n",
    "first_num = float(input('Enter first number: '))\n",
    "second_num = float(input('Now Enter second number: '))\n",
    "operator = input('Enter the operation you want to perform: ')\n",
    "calculator(first_num, second_num, operator)"
   ]
  },
  {
   "cell_type": "markdown",
   "metadata": {},
   "source": [
    "### 2. Write a program to check if there is any numeric value in list using for loop"
   ]
  },
  {
   "cell_type": "code",
   "execution_count": 3,
   "metadata": {},
   "outputs": [
    {
     "name": "stdout",
     "output_type": "stream",
     "text": [
      "How many values you want to add in the list: 5\n",
      "Enter your 5 values\n",
      "tuna\n",
      "huzaifa\n",
      "20\n",
      "paul\n",
      "701\n",
      "\n",
      "There are 2 numeric values in ['20', '701']\n",
      "Original list -> ['tuna', 'huzaifa', '20', 'paul', '701']\n"
     ]
    }
   ],
   "source": [
    "def numeric_values(length):\n",
    "\n",
    "    lst = []\n",
    "    numeric_values = []\n",
    "    count = 0\n",
    "    print(f'Enter your {length} values')\n",
    "    for l in range(length):\n",
    "        lst.append(input())\n",
    "\n",
    "    for each in lst:\n",
    "        if each.isdigit():\n",
    "            numeric_values.append(each)\n",
    "            count += 1\n",
    "            \n",
    "    print(f'\\nThere are {count} numeric values in {numeric_values}')\n",
    "    print(f'Original list -> {lst}')\n",
    "    \n",
    "length = int(input('How many values you want to add in the list: '))\n",
    "numeric_values(length)"
   ]
  },
  {
   "cell_type": "markdown",
   "metadata": {},
   "source": [
    "### 3. Write a Python script to add a key to a dictionary"
   ]
  },
  {
   "cell_type": "code",
   "execution_count": 6,
   "metadata": {},
   "outputs": [
    {
     "name": "stdout",
     "output_type": "stream",
     "text": [
      "How many keys do you want to add into the dictionary: 6\n",
      "Enter key 1: tuna\n",
      "Enter its value: 20\n",
      "Enter key 2: huzaifa\n",
      "Enter its value: 32\n",
      "Enter key 3: paul\n",
      "Enter its value: 123\n",
      "Enter key 4: 780\n",
      "Enter its value: sky diving\n",
      "Enter key 5: richard\n",
      "Enter its value: land\n",
      "Enter key 6: 50\n",
      "Enter its value: 10\n",
      "\n",
      "{'tuna': '20', 'huzaifa': '32', 'paul': '123', '780': 'sky diving', 'richard': 'land', '50': '10'}\n"
     ]
    }
   ],
   "source": [
    "def add_keys(no_of_keys):\n",
    "    \n",
    "    dct = dict()\n",
    "    for i in range(no_of_keys):\n",
    "        k = input(f'Enter key {i+1}: ')\n",
    "        dct[k] = input('Enter its value: ')\n",
    "    \n",
    "    return dct\n",
    "    \n",
    "no_of_keys = int(input('How many keys do you want to add into the dictionary: '))\n",
    "print(f'\\n{add_keys(no_of_keys)}')"
   ]
  },
  {
   "cell_type": "markdown",
   "metadata": {},
   "source": [
    "### 4. Write a Python program to sum all the numeric items in a dictionary"
   ]
  },
  {
   "cell_type": "code",
   "execution_count": 11,
   "metadata": {},
   "outputs": [
    {
     "name": "stdout",
     "output_type": "stream",
     "text": [
      "How many keys you want to add in the dictionary: 4\n",
      "Enter key 1: tuna\n",
      "Enter its value: 40\n",
      "Enter key 2: toaster\n",
      "Enter its value: 10\n",
      "Enter key 3: fred\n",
      "Enter its value: freddy\n",
      "Enter key 4: pasta\n",
      "Enter its value: 12\n",
      "\n",
      "The sum on only numeric values in dictionary is: 62\n"
     ]
    }
   ],
   "source": [
    "def sum_number_in_dictionary(no_of_keys):\n",
    "    \n",
    "    dct = add_keys(no_of_keys)\n",
    "    summ = 0\n",
    "\n",
    "    for value in dct.values():\n",
    "        if value.isdigit():\n",
    "            summ += int(value)\n",
    "    return summ\n",
    "\n",
    "no_of_keys = int(input('How many keys you want to add in the dictionary: '))\n",
    "print(f'\\nThe sum on only numeric values in dictionary is: {sum_number_in_dictionary(no_of_keys)}')"
   ]
  },
  {
   "cell_type": "markdown",
   "metadata": {},
   "source": [
    "### 5. Write a program to identify duplicate values from list"
   ]
  },
  {
   "cell_type": "code",
   "execution_count": 12,
   "metadata": {},
   "outputs": [
    {
     "name": "stdout",
     "output_type": "stream",
     "text": [
      "4 is occuring 3 times.\n",
      "5 is occuring 2 times.\n",
      "2 is occuring 4 times.\n"
     ]
    }
   ],
   "source": [
    "def check_duplicate(lst):\n",
    "    \n",
    "    tracked = []\n",
    "    for i in lst:\n",
    "        countt = 0\n",
    "        for j in lst:\n",
    "            if i == j:\n",
    "                countt += 1\n",
    "        tracked.append(i)\n",
    "        if countt > 1 and tracked.count(i) == 1 :\n",
    "            print(f'{i} is occuring {countt} times.')\n",
    "            \n",
    "lst = [4, 5, 2, 5, 2, 2, 4, 4, 3, 2, 1]\n",
    "check_duplicate(lst)"
   ]
  },
  {
   "cell_type": "markdown",
   "metadata": {},
   "source": [
    "### 6. Write a Python script to check if a given key already exists in a dictionary"
   ]
  },
  {
   "cell_type": "code",
   "execution_count": 1,
   "metadata": {},
   "outputs": [
    {
     "name": "stdout",
     "output_type": "stream",
     "text": [
      "How many keys you want to add in the dictionary: 4\n",
      "Enter key 1: tuna\n",
      "Enter its value: 80\n",
      "Enter key 2: toaster\n",
      "Enter its value: 20\n",
      "Enter key 3: tuna\n",
      "The key tuna already exists, enter unique: toaster\n",
      "The key toaster already exists, enter unique: fred\n",
      "Enter its value: freddy\n",
      "Enter key 4: fred\n",
      "The key fred already exists, enter unique: huzaifa baloch\n",
      "Enter its value: data scientist\n",
      "\n",
      "The dictionary is {'tuna': '80', 'toaster': '20', 'fred': 'freddy', 'huzaifa baloch': 'data scientist'}\n",
      "\n",
      "\n",
      "The keys are dict_keys(['tuna', 'toaster', 'fred', 'huzaifa baloch'])\n"
     ]
    }
   ],
   "source": [
    "no_of_keys = int(input('How many keys you want to add in the dictionary: '))\n",
    "\n",
    "def check_duplicate_key(no_of_keys):\n",
    "    \n",
    "    dct = dict()\n",
    "    for i in range(no_of_keys):\n",
    "        k = input(f'Enter key {i+1}: ')\n",
    "        while k in dct.keys():\n",
    "            k = input(f'The key {k} already exists, enter unique: ')\n",
    "            \n",
    "        dct[k] = input('Enter its value: ')\n",
    "    return dct, dct.keys()\n",
    "\n",
    "dct, keys = check_duplicate_key(no_of_keys)\n",
    "print(f'\\nThe dictionary is {dct}')\n",
    "print(f'\\n\\nThe keys are {keys}')"
   ]
  }
 ],
 "metadata": {
  "kernelspec": {
   "display_name": "Python 3",
   "language": "python",
   "name": "python3"
  },
  "language_info": {
   "codemirror_mode": {
    "name": "ipython",
    "version": 3
   },
   "file_extension": ".py",
   "mimetype": "text/x-python",
   "name": "python",
   "nbconvert_exporter": "python",
   "pygments_lexer": "ipython3",
   "version": "3.7.3"
  }
 },
 "nbformat": 4,
 "nbformat_minor": 2
}
